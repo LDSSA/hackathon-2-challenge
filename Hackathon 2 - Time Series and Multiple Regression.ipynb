{
 "cells": [
  {
   "cell_type": "markdown",
   "metadata": {},
   "source": [
    "# LSDDA: Hackathon #1"
   ]
  },
  {
   "cell_type": "markdown",
   "metadata": {},
   "source": [
    "## Objective\n",
    "\n",
    "#### Predict the weekly sales for the sections of a set of stores (multiple regression + time series)"
   ]
  },
  {
   "cell_type": "markdown",
   "metadata": {},
   "source": [
    "## Data Structure\n",
    "\n",
    "### Target\n",
    "\n",
    "**sales**: volume of weekly sales for the section of a store. A negative number means that more returns were made than purchases.\n",
    "\n",
    "### Features\n",
    "* ***store (integer)***: ID of the store (unique accross the entire dataset)\n",
    "* ***section***: ID of the store section\n",
    "* ***date*** \n",
    "* ***store_type***: Store category\n",
    "* ***store_size***: Store size (square meters)\n",
    "* ***temperature***: temperature (in fahrenheit)\n",
    "* ***fuel_prc***: fuel cost for the store region\n",
    "* ***consumer_prc_idx***: consumer price index for the store region\n",
    "* ***unemployment_rate***: unemployment rate for the store region\n",
    "* ***environment_ratio_1***: a ratio of several hidden environment descriptors (level 1)\n",
    "* ***environment_ratio_2***: a ratio of several hidden environment descriptors (level 2)\n",
    "* ***time_agg_env_ratio***: aggregation of several hidden environment descriptors\n",
    "* ***time_agg_grp_1***: observation time group (level 1)\n",
    "* ***time_agg_grp_2***: observation time group (level 2)"
   ]
  },
  {
   "cell_type": "code",
   "execution_count": 1,
   "metadata": {},
   "outputs": [],
   "source": [
    "# import pandas! \n",
    "import pandas as pd \n",
    "\n",
    "# and numpy!\n",
    "import numpy as np\n",
    "\n",
    "# visualization stuff: \n",
    "import seaborn as sns\n",
    "from matplotlib import pyplot as plt \n",
    "% matplotlib inline \n",
    "\n",
    "# A few optional things to get rid of useless warnings, and to make plots pretty\n",
    "plt.style.use('seaborn')"
   ]
  },
  {
   "cell_type": "code",
   "execution_count": 2,
   "metadata": {
    "collapsed": true
   },
   "outputs": [],
   "source": [
    "train = pd.read_csv('train.csv')"
   ]
  },
  {
   "cell_type": "code",
   "execution_count": 3,
   "metadata": {},
   "outputs": [],
   "source": [
    "test = pd.read_csv('test.csv')"
   ]
  },
  {
   "cell_type": "markdown",
   "metadata": {},
   "source": [
    "# Before continuing, a very important note\n",
    "\n",
    "1. In the learning units for time series, we teached you how to predict the next day of sales based on the sales of previous days or weeks. It has an auto-regressive component (sales depend on past sales), and also depended on exogenous variables (all other features). Here, besides the historical sales, you have inputs like temperature and fuel costs. \n",
    "\n",
    "2. The test set has more than one test observation per _(store, section)_ pair. This means that, if you opt to use autoregressive models, there will be test observations that you need **to predict based on the previous predictions you made**. For example, imagine that you predict the next week of sales based on a linear regression that uses the current week as input. You have the following data"
   ]
  },
  {
   "cell_type": "code",
   "execution_count": null,
   "metadata": {},
   "outputs": [],
   "source": [
    "sales_train = pd.DataFrame(data={\n",
    "    'sales': np.random.RandomState(1).rand(10)\n",
    "})\n",
    "sales_train"
   ]
  },
  {
   "cell_type": "markdown",
   "metadata": {},
   "source": [
    "you have this simple model"
   ]
  },
  {
   "cell_type": "code",
   "execution_count": null,
   "metadata": {
    "collapsed": true
   },
   "outputs": [],
   "source": [
    "predict = lambda x: 0.6 * x + 0.3"
   ]
  },
  {
   "cell_type": "markdown",
   "metadata": {},
   "source": [
    "and now you make the predictions"
   ]
  },
  {
   "cell_type": "code",
   "execution_count": null,
   "metadata": {
    "scrolled": true
   },
   "outputs": [],
   "source": [
    "predict(sales_train)"
   ]
  },
  {
   "cell_type": "markdown",
   "metadata": {},
   "source": [
    "So, what would happend if I want to continue predicting? You can do something like this:"
   ]
  },
  {
   "cell_type": "code",
   "execution_count": null,
   "metadata": {},
   "outputs": [],
   "source": [
    "current_week_sales = predict(sales_train.head(1).values)\n",
    "\n",
    "for i in range(20): \n",
    "    current_week_sales = predict(current_week_sales)\n",
    "    print(current_week_sales)"
   ]
  },
  {
   "cell_type": "markdown",
   "metadata": {},
   "source": [
    "So, you **store** the value your model gave as prediction and use it as the **next input**. \n",
    "\n",
    "There is, at least, one problem with this approach: the error of your model predictions will propagate since the start of the training dataframe (check what was the first value for *current_week_sales*). But...we already know the predictions for the first 9 weeks, we don't need to use the model for those! So, we can start predicting from the last value of the training set"
   ]
  },
  {
   "cell_type": "code",
   "execution_count": null,
   "metadata": {},
   "outputs": [],
   "source": [
    "current_week_sales = predict(sales_train.tail(1).values)\n",
    "\n",
    "for i in range(10): \n",
    "    current_week_sales = predict(current_week_sales)\n",
    "    print(current_week_sales)"
   ]
  },
  {
   "cell_type": "markdown",
   "metadata": {},
   "source": [
    "We just _range(10)_ instead of _range(20)_ because we were predicting the remaining 10 and not the entire 20 from the start."
   ]
  },
  {
   "cell_type": "markdown",
   "metadata": {},
   "source": [
    "# Let's move, Team!"
   ]
  },
  {
   "cell_type": "code",
   "execution_count": 1,
   "metadata": {},
   "outputs": [
    {
     "data": {
      "image/jpeg": "[encoded data removed]",
      "text/html": [
       "\n",
       "        <iframe\n",
       "            width=\"400\"\n",
       "            height=\"300\"\n",
       "            src=\"https://www.youtube.com/embed/Ut-fJCc0zS4?autoplay=0\"\n",
       "            frameborder=\"0\"\n",
       "            allowfullscreen\n",
       "        ></iframe>\n",
       "        "
      ],
      "text/plain": [
       "<IPython.lib.display.YouTubeVideo at 0x7f0f546edad0>"
      ]
     },
     "execution_count": 1,
     "metadata": {},
     "output_type": "execute_result"
    }
   ],
   "source": [
    "from IPython.display import YouTubeVideo\n",
    "YouTubeVideo(\"Ut-fJCc0zS4\", autoplay=0)"
   ]
  }
 ],
 "metadata": {
  "kernelspec": {
   "display_name": "Python 3",
   "language": "python",
   "name": "python3"
  },
  "language_info": {
   "codemirror_mode": {
    "name": "ipython",
    "version": 3
   },
   "file_extension": ".py",
   "mimetype": "text/x-python",
   "name": "python",
   "nbconvert_exporter": "python",
   "pygments_lexer": "ipython3",
   "version": "3.4.3"
  }
 },
 "nbformat": 4,
 "nbformat_minor": 2
}
